{
 "cells": [
  {
   "cell_type": "code",
   "execution_count": 1,
   "metadata": {},
   "outputs": [],
   "source": [
    "import pandas as pd\n",
    "import numpy as np\n",
    "import matplotlib.pyplot as plt"
   ]
  },
  {
   "cell_type": "code",
   "execution_count": 2,
   "metadata": {},
   "outputs": [],
   "source": [
    "data = pd.read_excel(\"/Users/basillatif/Desktop/NFL Forecast Model/2019 Season Data with Playoffs.xlsx\")"
   ]
  },
  {
   "cell_type": "code",
   "execution_count": 3,
   "metadata": {},
   "outputs": [
    {
     "data": {
      "text/html": [
       "<div>\n",
       "<style scoped>\n",
       "    .dataframe tbody tr th:only-of-type {\n",
       "        vertical-align: middle;\n",
       "    }\n",
       "\n",
       "    .dataframe tbody tr th {\n",
       "        vertical-align: top;\n",
       "    }\n",
       "\n",
       "    .dataframe thead th {\n",
       "        text-align: right;\n",
       "    }\n",
       "</style>\n",
       "<table border=\"1\" class=\"dataframe\">\n",
       "  <thead>\n",
       "    <tr style=\"text-align: right;\">\n",
       "      <th></th>\n",
       "      <th>Team1</th>\n",
       "      <th>Week</th>\n",
       "      <th>Game Number</th>\n",
       "      <th>Game Location</th>\n",
       "      <th>Team2</th>\n",
       "      <th>Team1_Score</th>\n",
       "      <th>Team2_Score</th>\n",
       "      <th>Team1_Passing</th>\n",
       "      <th>Team1_Rushing</th>\n",
       "      <th>Team1_Turnovers</th>\n",
       "      <th>Team2_Passing</th>\n",
       "      <th>Team2_Rushing</th>\n",
       "      <th>Team2_Turnovers</th>\n",
       "    </tr>\n",
       "  </thead>\n",
       "  <tbody>\n",
       "    <tr>\n",
       "      <th>0</th>\n",
       "      <td>Arizona Cardinals</td>\n",
       "      <td>1</td>\n",
       "      <td>1</td>\n",
       "      <td>NaN</td>\n",
       "      <td>Detroit Lions</td>\n",
       "      <td>27.0</td>\n",
       "      <td>27.0</td>\n",
       "      <td>275.0</td>\n",
       "      <td>112.0</td>\n",
       "      <td>1</td>\n",
       "      <td>361.0</td>\n",
       "      <td>116.0</td>\n",
       "      <td>2</td>\n",
       "    </tr>\n",
       "    <tr>\n",
       "      <th>1</th>\n",
       "      <td>Arizona Cardinals</td>\n",
       "      <td>2</td>\n",
       "      <td>2</td>\n",
       "      <td>AWAY</td>\n",
       "      <td>Baltimore Ravens</td>\n",
       "      <td>17.0</td>\n",
       "      <td>23.0</td>\n",
       "      <td>329.0</td>\n",
       "      <td>20.0</td>\n",
       "      <td>0</td>\n",
       "      <td>258.0</td>\n",
       "      <td>182.0</td>\n",
       "      <td>0</td>\n",
       "    </tr>\n",
       "    <tr>\n",
       "      <th>2</th>\n",
       "      <td>Arizona Cardinals</td>\n",
       "      <td>3</td>\n",
       "      <td>3</td>\n",
       "      <td>NaN</td>\n",
       "      <td>Carolina Panthers</td>\n",
       "      <td>20.0</td>\n",
       "      <td>38.0</td>\n",
       "      <td>127.0</td>\n",
       "      <td>121.0</td>\n",
       "      <td>2</td>\n",
       "      <td>240.0</td>\n",
       "      <td>173.0</td>\n",
       "      <td>1</td>\n",
       "    </tr>\n",
       "    <tr>\n",
       "      <th>3</th>\n",
       "      <td>Arizona Cardinals</td>\n",
       "      <td>4</td>\n",
       "      <td>4</td>\n",
       "      <td>NaN</td>\n",
       "      <td>Seattle Seahawks</td>\n",
       "      <td>10.0</td>\n",
       "      <td>27.0</td>\n",
       "      <td>206.0</td>\n",
       "      <td>115.0</td>\n",
       "      <td>1</td>\n",
       "      <td>225.0</td>\n",
       "      <td>115.0</td>\n",
       "      <td>0</td>\n",
       "    </tr>\n",
       "    <tr>\n",
       "      <th>4</th>\n",
       "      <td>Arizona Cardinals</td>\n",
       "      <td>5</td>\n",
       "      <td>5</td>\n",
       "      <td>AWAY</td>\n",
       "      <td>Cincinnati Bengals</td>\n",
       "      <td>26.0</td>\n",
       "      <td>23.0</td>\n",
       "      <td>248.0</td>\n",
       "      <td>266.0</td>\n",
       "      <td>0</td>\n",
       "      <td>262.0</td>\n",
       "      <td>108.0</td>\n",
       "      <td>0</td>\n",
       "    </tr>\n",
       "    <tr>\n",
       "      <th>...</th>\n",
       "      <td>...</td>\n",
       "      <td>...</td>\n",
       "      <td>...</td>\n",
       "      <td>...</td>\n",
       "      <td>...</td>\n",
       "      <td>...</td>\n",
       "      <td>...</td>\n",
       "      <td>...</td>\n",
       "      <td>...</td>\n",
       "      <td>...</td>\n",
       "      <td>...</td>\n",
       "      <td>...</td>\n",
       "      <td>...</td>\n",
       "    </tr>\n",
       "    <tr>\n",
       "      <th>529</th>\n",
       "      <td>Washington Redskins</td>\n",
       "      <td>13</td>\n",
       "      <td>12</td>\n",
       "      <td>AWAY</td>\n",
       "      <td>Carolina Panthers</td>\n",
       "      <td>29.0</td>\n",
       "      <td>21.0</td>\n",
       "      <td>114.0</td>\n",
       "      <td>248.0</td>\n",
       "      <td>0</td>\n",
       "      <td>213.0</td>\n",
       "      <td>65.0</td>\n",
       "      <td>2</td>\n",
       "    </tr>\n",
       "    <tr>\n",
       "      <th>530</th>\n",
       "      <td>Washington Redskins</td>\n",
       "      <td>14</td>\n",
       "      <td>13</td>\n",
       "      <td>AWAY</td>\n",
       "      <td>Green Bay Packers</td>\n",
       "      <td>15.0</td>\n",
       "      <td>20.0</td>\n",
       "      <td>141.0</td>\n",
       "      <td>121.0</td>\n",
       "      <td>1</td>\n",
       "      <td>167.0</td>\n",
       "      <td>174.0</td>\n",
       "      <td>1</td>\n",
       "    </tr>\n",
       "    <tr>\n",
       "      <th>531</th>\n",
       "      <td>Washington Redskins</td>\n",
       "      <td>15</td>\n",
       "      <td>14</td>\n",
       "      <td>NaN</td>\n",
       "      <td>Philadelphia Eagles</td>\n",
       "      <td>27.0</td>\n",
       "      <td>37.0</td>\n",
       "      <td>251.0</td>\n",
       "      <td>101.0</td>\n",
       "      <td>1</td>\n",
       "      <td>258.0</td>\n",
       "      <td>157.0</td>\n",
       "      <td>1</td>\n",
       "    </tr>\n",
       "    <tr>\n",
       "      <th>532</th>\n",
       "      <td>Washington Redskins</td>\n",
       "      <td>16</td>\n",
       "      <td>15</td>\n",
       "      <td>NaN</td>\n",
       "      <td>New York Giants</td>\n",
       "      <td>35.0</td>\n",
       "      <td>41.0</td>\n",
       "      <td>281.0</td>\n",
       "      <td>80.0</td>\n",
       "      <td>0</td>\n",
       "      <td>346.0</td>\n",
       "      <td>206.0</td>\n",
       "      <td>0</td>\n",
       "    </tr>\n",
       "    <tr>\n",
       "      <th>533</th>\n",
       "      <td>Washington Redskins</td>\n",
       "      <td>17</td>\n",
       "      <td>16</td>\n",
       "      <td>AWAY</td>\n",
       "      <td>Dallas Cowboys</td>\n",
       "      <td>16.0</td>\n",
       "      <td>47.0</td>\n",
       "      <td>183.0</td>\n",
       "      <td>88.0</td>\n",
       "      <td>2</td>\n",
       "      <td>294.0</td>\n",
       "      <td>223.0</td>\n",
       "      <td>1</td>\n",
       "    </tr>\n",
       "  </tbody>\n",
       "</table>\n",
       "<p>534 rows × 13 columns</p>\n",
       "</div>"
      ],
      "text/plain": [
       "                   Team1  Week  Game Number Game Location  \\\n",
       "0      Arizona Cardinals     1            1           NaN   \n",
       "1      Arizona Cardinals     2            2          AWAY   \n",
       "2      Arizona Cardinals     3            3           NaN   \n",
       "3      Arizona Cardinals     4            4           NaN   \n",
       "4      Arizona Cardinals     5            5          AWAY   \n",
       "..                   ...   ...          ...           ...   \n",
       "529  Washington Redskins    13           12          AWAY   \n",
       "530  Washington Redskins    14           13          AWAY   \n",
       "531  Washington Redskins    15           14           NaN   \n",
       "532  Washington Redskins    16           15           NaN   \n",
       "533  Washington Redskins    17           16          AWAY   \n",
       "\n",
       "                   Team2  Team1_Score  Team2_Score  Team1_Passing  \\\n",
       "0          Detroit Lions         27.0         27.0          275.0   \n",
       "1       Baltimore Ravens         17.0         23.0          329.0   \n",
       "2      Carolina Panthers         20.0         38.0          127.0   \n",
       "3       Seattle Seahawks         10.0         27.0          206.0   \n",
       "4     Cincinnati Bengals         26.0         23.0          248.0   \n",
       "..                   ...          ...          ...            ...   \n",
       "529    Carolina Panthers         29.0         21.0          114.0   \n",
       "530    Green Bay Packers         15.0         20.0          141.0   \n",
       "531  Philadelphia Eagles         27.0         37.0          251.0   \n",
       "532      New York Giants         35.0         41.0          281.0   \n",
       "533       Dallas Cowboys         16.0         47.0          183.0   \n",
       "\n",
       "     Team1_Rushing  Team1_Turnovers  Team2_Passing  Team2_Rushing  \\\n",
       "0            112.0                1          361.0          116.0   \n",
       "1             20.0                0          258.0          182.0   \n",
       "2            121.0                2          240.0          173.0   \n",
       "3            115.0                1          225.0          115.0   \n",
       "4            266.0                0          262.0          108.0   \n",
       "..             ...              ...            ...            ...   \n",
       "529          248.0                0          213.0           65.0   \n",
       "530          121.0                1          167.0          174.0   \n",
       "531          101.0                1          258.0          157.0   \n",
       "532           80.0                0          346.0          206.0   \n",
       "533           88.0                2          294.0          223.0   \n",
       "\n",
       "     Team2_Turnovers  \n",
       "0                  2  \n",
       "1                  0  \n",
       "2                  1  \n",
       "3                  0  \n",
       "4                  0  \n",
       "..               ...  \n",
       "529                2  \n",
       "530                1  \n",
       "531                1  \n",
       "532                0  \n",
       "533                1  \n",
       "\n",
       "[534 rows x 13 columns]"
      ]
     },
     "execution_count": 3,
     "metadata": {},
     "output_type": "execute_result"
    }
   ],
   "source": [
    "data"
   ]
  },
  {
   "cell_type": "markdown",
   "metadata": {},
   "source": [
    "#Who scored the most points this season\n",
    "#data1 = data.groupby('Team1')['Team1_Score'].sum() \n",
    "#data1.sort_values(ascending=False)\n",
    "#Who had the most passing yards this season \n",
    "data2 = data.groupby('Team1')['Team1_Passing'].sum()\n",
    "data2.sort_values(ascending=False)\n",
    "#Who had the most rushing yards\n",
    "data3 = data.groupby('Team1')['Team1_Rushing'].sum()\n",
    "data3.sort_values(ascending=False)"
   ]
  },
  {
   "cell_type": "code",
   "execution_count": 4,
   "metadata": {},
   "outputs": [
    {
     "name": "stderr",
     "output_type": "stream",
     "text": [
      "/Users/basillatif/anaconda3/lib/python3.7/site-packages/pandas/core/frame.py:4117: SettingWithCopyWarning: \n",
      "A value is trying to be set on a copy of a slice from a DataFrame\n",
      "\n",
      "See the caveats in the documentation: http://pandas.pydata.org/pandas-docs/stable/user_guide/indexing.html#returning-a-view-versus-a-copy\n",
      "  errors=errors,\n"
     ]
    },
    {
     "data": {
      "text/html": [
       "<div>\n",
       "<style scoped>\n",
       "    .dataframe tbody tr th:only-of-type {\n",
       "        vertical-align: middle;\n",
       "    }\n",
       "\n",
       "    .dataframe tbody tr th {\n",
       "        vertical-align: top;\n",
       "    }\n",
       "\n",
       "    .dataframe thead th {\n",
       "        text-align: right;\n",
       "    }\n",
       "</style>\n",
       "<table border=\"1\" class=\"dataframe\">\n",
       "  <thead>\n",
       "    <tr style=\"text-align: right;\">\n",
       "      <th></th>\n",
       "      <th>Team1</th>\n",
       "      <th>Week</th>\n",
       "      <th>Game Number</th>\n",
       "      <th>Game Location</th>\n",
       "      <th>Team2</th>\n",
       "      <th>Team1_Score</th>\n",
       "      <th>Team2_Score</th>\n",
       "      <th>Team1_Passing</th>\n",
       "      <th>Team1_Rushing</th>\n",
       "      <th>Team1_Turnovers</th>\n",
       "      <th>Team2_Passing</th>\n",
       "      <th>Team2_Rushing</th>\n",
       "      <th>Team2_Turnovers</th>\n",
       "    </tr>\n",
       "  </thead>\n",
       "  <tbody>\n",
       "    <tr>\n",
       "      <th>246</th>\n",
       "      <td>Kansas City Chiefs</td>\n",
       "      <td>1</td>\n",
       "      <td>1</td>\n",
       "      <td>AWAY</td>\n",
       "      <td>Jacksonville Jaguars</td>\n",
       "      <td>40.0</td>\n",
       "      <td>26.0</td>\n",
       "      <td>378.0</td>\n",
       "      <td>113.0</td>\n",
       "      <td>0</td>\n",
       "      <td>347.0</td>\n",
       "      <td>81.0</td>\n",
       "      <td>2</td>\n",
       "    </tr>\n",
       "    <tr>\n",
       "      <th>247</th>\n",
       "      <td>Kansas City Chiefs</td>\n",
       "      <td>2</td>\n",
       "      <td>2</td>\n",
       "      <td>AWAY</td>\n",
       "      <td>Oakland Raiders</td>\n",
       "      <td>28.0</td>\n",
       "      <td>10.0</td>\n",
       "      <td>436.0</td>\n",
       "      <td>31.0</td>\n",
       "      <td>1</td>\n",
       "      <td>178.0</td>\n",
       "      <td>129.0</td>\n",
       "      <td>2</td>\n",
       "    </tr>\n",
       "    <tr>\n",
       "      <th>248</th>\n",
       "      <td>Kansas City Chiefs</td>\n",
       "      <td>3</td>\n",
       "      <td>3</td>\n",
       "      <td>NaN</td>\n",
       "      <td>Baltimore Ravens</td>\n",
       "      <td>33.0</td>\n",
       "      <td>28.0</td>\n",
       "      <td>363.0</td>\n",
       "      <td>140.0</td>\n",
       "      <td>0</td>\n",
       "      <td>249.0</td>\n",
       "      <td>203.0</td>\n",
       "      <td>0</td>\n",
       "    </tr>\n",
       "    <tr>\n",
       "      <th>249</th>\n",
       "      <td>Kansas City Chiefs</td>\n",
       "      <td>4</td>\n",
       "      <td>4</td>\n",
       "      <td>AWAY</td>\n",
       "      <td>Detroit Lions</td>\n",
       "      <td>34.0</td>\n",
       "      <td>30.0</td>\n",
       "      <td>315.0</td>\n",
       "      <td>123.0</td>\n",
       "      <td>3</td>\n",
       "      <td>261.0</td>\n",
       "      <td>186.0</td>\n",
       "      <td>2</td>\n",
       "    </tr>\n",
       "    <tr>\n",
       "      <th>250</th>\n",
       "      <td>Kansas City Chiefs</td>\n",
       "      <td>5</td>\n",
       "      <td>5</td>\n",
       "      <td>NaN</td>\n",
       "      <td>Indianapolis Colts</td>\n",
       "      <td>13.0</td>\n",
       "      <td>19.0</td>\n",
       "      <td>288.0</td>\n",
       "      <td>36.0</td>\n",
       "      <td>1</td>\n",
       "      <td>151.0</td>\n",
       "      <td>180.0</td>\n",
       "      <td>1</td>\n",
       "    </tr>\n",
       "  </tbody>\n",
       "</table>\n",
       "</div>"
      ],
      "text/plain": [
       "                  Team1  Week  Game Number Game Location  \\\n",
       "246  Kansas City Chiefs     1            1          AWAY   \n",
       "247  Kansas City Chiefs     2            2          AWAY   \n",
       "248  Kansas City Chiefs     3            3           NaN   \n",
       "249  Kansas City Chiefs     4            4          AWAY   \n",
       "250  Kansas City Chiefs     5            5           NaN   \n",
       "\n",
       "                    Team2  Team1_Score  Team2_Score  Team1_Passing  \\\n",
       "246  Jacksonville Jaguars         40.0         26.0          378.0   \n",
       "247       Oakland Raiders         28.0         10.0          436.0   \n",
       "248      Baltimore Ravens         33.0         28.0          363.0   \n",
       "249         Detroit Lions         34.0         30.0          315.0   \n",
       "250    Indianapolis Colts         13.0         19.0          288.0   \n",
       "\n",
       "     Team1_Rushing  Team1_Turnovers  Team2_Passing  Team2_Rushing  \\\n",
       "246          113.0                0          347.0           81.0   \n",
       "247           31.0                1          178.0          129.0   \n",
       "248          140.0                0          249.0          203.0   \n",
       "249          123.0                3          261.0          186.0   \n",
       "250           36.0                1          151.0          180.0   \n",
       "\n",
       "     Team2_Turnovers  \n",
       "246                2  \n",
       "247                2  \n",
       "248                0  \n",
       "249                2  \n",
       "250                1  "
      ]
     },
     "execution_count": 4,
     "metadata": {},
     "output_type": "execute_result"
    }
   ],
   "source": [
    "chiefs = data.loc[data['Team1'] == 'Kansas City Chiefs']\n",
    "chiefs.drop(chiefs.tail(1).index,inplace=True)\n",
    "chiefs.head()"
   ]
  },
  {
   "cell_type": "code",
   "execution_count": 5,
   "metadata": {},
   "outputs": [
    {
     "data": {
      "text/html": [
       "<div>\n",
       "<style scoped>\n",
       "    .dataframe tbody tr th:only-of-type {\n",
       "        vertical-align: middle;\n",
       "    }\n",
       "\n",
       "    .dataframe tbody tr th {\n",
       "        vertical-align: top;\n",
       "    }\n",
       "\n",
       "    .dataframe thead th {\n",
       "        text-align: right;\n",
       "    }\n",
       "</style>\n",
       "<table border=\"1\" class=\"dataframe\">\n",
       "  <thead>\n",
       "    <tr style=\"text-align: right;\">\n",
       "      <th></th>\n",
       "      <th>Team1</th>\n",
       "      <th>Week</th>\n",
       "      <th>Game Number</th>\n",
       "      <th>Game Location</th>\n",
       "      <th>Team2</th>\n",
       "      <th>Team1_Score</th>\n",
       "      <th>Team2_Score</th>\n",
       "      <th>Team1_Passing</th>\n",
       "      <th>Team1_Rushing</th>\n",
       "      <th>Team1_Turnovers</th>\n",
       "      <th>Team2_Passing</th>\n",
       "      <th>Team2_Rushing</th>\n",
       "      <th>Team2_Turnovers</th>\n",
       "    </tr>\n",
       "  </thead>\n",
       "  <tbody>\n",
       "    <tr>\n",
       "      <th>459</th>\n",
       "      <td>San Francisco 49ers</td>\n",
       "      <td>15</td>\n",
       "      <td>14</td>\n",
       "      <td>NaN</td>\n",
       "      <td>Atlanta Falcons</td>\n",
       "      <td>22.0</td>\n",
       "      <td>29.0</td>\n",
       "      <td>193.0</td>\n",
       "      <td>120.0</td>\n",
       "      <td>2</td>\n",
       "      <td>201.0</td>\n",
       "      <td>89.0</td>\n",
       "      <td>1</td>\n",
       "    </tr>\n",
       "    <tr>\n",
       "      <th>460</th>\n",
       "      <td>San Francisco 49ers</td>\n",
       "      <td>16</td>\n",
       "      <td>15</td>\n",
       "      <td>NaN</td>\n",
       "      <td>Los Angeles Rams</td>\n",
       "      <td>34.0</td>\n",
       "      <td>31.0</td>\n",
       "      <td>215.0</td>\n",
       "      <td>119.0</td>\n",
       "      <td>2</td>\n",
       "      <td>323.0</td>\n",
       "      <td>72.0</td>\n",
       "      <td>1</td>\n",
       "    </tr>\n",
       "    <tr>\n",
       "      <th>461</th>\n",
       "      <td>San Francisco 49ers</td>\n",
       "      <td>17</td>\n",
       "      <td>16</td>\n",
       "      <td>AWAY</td>\n",
       "      <td>Seattle Seahawks</td>\n",
       "      <td>26.0</td>\n",
       "      <td>21.0</td>\n",
       "      <td>270.0</td>\n",
       "      <td>128.0</td>\n",
       "      <td>0</td>\n",
       "      <td>223.0</td>\n",
       "      <td>125.0</td>\n",
       "      <td>0</td>\n",
       "    </tr>\n",
       "    <tr>\n",
       "      <th>462</th>\n",
       "      <td>San Francisco 49ers</td>\n",
       "      <td>19</td>\n",
       "      <td>17</td>\n",
       "      <td>NaN</td>\n",
       "      <td>Minnesota Vikings</td>\n",
       "      <td>27.0</td>\n",
       "      <td>10.0</td>\n",
       "      <td>122.0</td>\n",
       "      <td>186.0</td>\n",
       "      <td>2</td>\n",
       "      <td>126.0</td>\n",
       "      <td>21.0</td>\n",
       "      <td>2</td>\n",
       "    </tr>\n",
       "    <tr>\n",
       "      <th>463</th>\n",
       "      <td>San Francisco 49ers</td>\n",
       "      <td>20</td>\n",
       "      <td>18</td>\n",
       "      <td>NaN</td>\n",
       "      <td>Green Bay Packers</td>\n",
       "      <td>37.0</td>\n",
       "      <td>20.0</td>\n",
       "      <td>69.0</td>\n",
       "      <td>285.0</td>\n",
       "      <td>0</td>\n",
       "      <td>296.0</td>\n",
       "      <td>62.0</td>\n",
       "      <td>3</td>\n",
       "    </tr>\n",
       "  </tbody>\n",
       "</table>\n",
       "</div>"
      ],
      "text/plain": [
       "                   Team1  Week  Game Number Game Location              Team2  \\\n",
       "459  San Francisco 49ers    15           14           NaN    Atlanta Falcons   \n",
       "460  San Francisco 49ers    16           15           NaN   Los Angeles Rams   \n",
       "461  San Francisco 49ers    17           16          AWAY   Seattle Seahawks   \n",
       "462  San Francisco 49ers    19           17           NaN  Minnesota Vikings   \n",
       "463  San Francisco 49ers    20           18           NaN  Green Bay Packers   \n",
       "\n",
       "     Team1_Score  Team2_Score  Team1_Passing  Team1_Rushing  Team1_Turnovers  \\\n",
       "459         22.0         29.0          193.0          120.0                2   \n",
       "460         34.0         31.0          215.0          119.0                2   \n",
       "461         26.0         21.0          270.0          128.0                0   \n",
       "462         27.0         10.0          122.0          186.0                2   \n",
       "463         37.0         20.0           69.0          285.0                0   \n",
       "\n",
       "     Team2_Passing  Team2_Rushing  Team2_Turnovers  \n",
       "459          201.0           89.0                1  \n",
       "460          323.0           72.0                1  \n",
       "461          223.0          125.0                0  \n",
       "462          126.0           21.0                2  \n",
       "463          296.0           62.0                3  "
      ]
     },
     "execution_count": 5,
     "metadata": {},
     "output_type": "execute_result"
    }
   ],
   "source": [
    "niners = data.loc[data['Team1'] == 'San Francisco 49ers']\n",
    "niners.drop(niners.tail(1).index,inplace=True)\n",
    "niners.tail()"
   ]
  },
  {
   "cell_type": "code",
   "execution_count": 6,
   "metadata": {},
   "outputs": [
    {
     "data": {
      "text/plain": [
       "0.8888888888888888"
      ]
     },
     "execution_count": 6,
     "metadata": {},
     "output_type": "execute_result"
    }
   ],
   "source": [
    "#chiefs average data\n",
    "chiefs_score = chiefs['Team1_Score'].mean()\n",
    "chiefs_pass = chiefs['Team1_Passing'].mean()\n",
    "chiefs_run = chiefs['Team1_Rushing'].mean()\n",
    "chiefs_turnover = chiefs['Team1_Turnovers'].mean()\n",
    "chiefs_turnover"
   ]
  },
  {
   "cell_type": "code",
   "execution_count": 7,
   "metadata": {},
   "outputs": [
    {
     "data": {
      "text/plain": [
       "0.8888888888888888"
      ]
     },
     "execution_count": 7,
     "metadata": {},
     "output_type": "execute_result"
    }
   ],
   "source": [
    "#niners average data \n",
    "niners_score = chiefs['Team1_Score'].mean()\n",
    "niners_pass = chiefs['Team1_Passing'].mean()\n",
    "niners_run = chiefs['Team1_Rushing'].mean()\n",
    "niners_turnover = chiefs['Team1_Turnovers'].mean()\n",
    "niners_turnover"
   ]
  },
  {
   "cell_type": "code",
   "execution_count": 8,
   "metadata": {},
   "outputs": [],
   "source": [
    "chiefs_playoff_avgs = np.array([21, 304, 115, 0.5]).reshape(1, -1)\n",
    "chiefs_season_avgs = np.array([21, 284, 99, 0.89 ]).reshape(1, -1)\n",
    "niners_playoff_avgs = np.array([21, 95, 235, 1]).reshape(1, -1)\n",
    "niners_season_avgs = np.array([21, 283, 99, 0.89]).reshape(1, -1)"
   ]
  },
  {
   "cell_type": "code",
   "execution_count": null,
   "metadata": {},
   "outputs": [],
   "source": []
  },
  {
   "cell_type": "code",
   "execution_count": 9,
   "metadata": {},
   "outputs": [
    {
     "data": {
      "text/plain": [
       "array([[ 21,  95, 235,   1]])"
      ]
     },
     "execution_count": 9,
     "metadata": {},
     "output_type": "execute_result"
    }
   ],
   "source": [
    "niners_playoff_avgs"
   ]
  },
  {
   "cell_type": "markdown",
   "metadata": {},
   "source": [
    "#Building a random forest \n",
    "https://stackabuse.com/random-forest-algorithm-with-python-and-scikit-learn/\n",
    "https://medium.com/@sametgirgin/random-forest-regression-in-5-steps-with-python-ee4259eca0de"
   ]
  },
  {
   "cell_type": "code",
   "execution_count": 10,
   "metadata": {},
   "outputs": [
    {
     "data": {
      "text/plain": [
       "array([[  1., 378., 113.,   0.],\n",
       "       [  2., 436.,  31.,   1.],\n",
       "       [  3., 363., 140.,   0.],\n",
       "       [  4., 315., 123.,   3.],\n",
       "       [  5., 288.,  36.,   1.],\n",
       "       [  6., 256.,  53.,   2.],\n",
       "       [  7., 191.,  80.,   0.],\n",
       "       [  8., 249.,  88.,   1.],\n",
       "       [  9., 230., 147.,   1.],\n",
       "       [ 10., 433.,  97.,   1.],\n",
       "       [ 11., 180., 130.,   1.],\n",
       "       [ 12., 163.,  96.,   0.],\n",
       "       [ 13., 271.,  75.,   2.],\n",
       "       [ 14., 327.,  92.,   1.],\n",
       "       [ 15., 244., 106.,   0.],\n",
       "       [ 16., 174., 162.,   1.],\n",
       "       [ 17., 316., 118.,   1.],\n",
       "       [ 18., 292., 112.,   0.]])"
      ]
     },
     "execution_count": 10,
     "metadata": {},
     "output_type": "execute_result"
    }
   ],
   "source": [
    "#Splitting into attributes and labels. For game no, pass, rushing, turnovers\n",
    "A = chiefs.iloc[:, 2].values\n",
    "B = chiefs.iloc[:, 7:10].values\n",
    "# concatenate 2 numpy arrays: column-wise\n",
    "C = np.column_stack((A,B))\n",
    "C"
   ]
  },
  {
   "cell_type": "code",
   "execution_count": 11,
   "metadata": {},
   "outputs": [
    {
     "data": {
      "text/plain": [
       "array([40., 28., 33., 34., 13., 24., 30., 24., 26., 32., 24., 40., 23.,\n",
       "       23., 26., 31., 51., 35.])"
      ]
     },
     "execution_count": 11,
     "metadata": {},
     "output_type": "execute_result"
    }
   ],
   "source": [
    "#Team 1 Score is my Label \n",
    "d = chiefs.iloc[:, 5].values\n",
    "d"
   ]
  },
  {
   "cell_type": "code",
   "execution_count": 12,
   "metadata": {},
   "outputs": [
    {
     "data": {
      "text/plain": [
       "array([[  1., 378., 113.,   0.],\n",
       "       [  2., 436.,  31.,   1.],\n",
       "       [  3., 363., 140.,   0.],\n",
       "       [  4., 315., 123.,   3.],\n",
       "       [  5., 288.,  36.,   1.],\n",
       "       [  6., 256.,  53.,   2.],\n",
       "       [  7., 191.,  80.,   0.],\n",
       "       [  8., 249.,  88.,   1.],\n",
       "       [  9., 230., 147.,   1.],\n",
       "       [ 10., 433.,  97.,   1.],\n",
       "       [ 11., 180., 130.,   1.],\n",
       "       [ 12., 163.,  96.,   0.],\n",
       "       [ 13., 271.,  75.,   2.],\n",
       "       [ 14., 327.,  92.,   1.],\n",
       "       [ 15., 244., 106.,   0.],\n",
       "       [ 16., 174., 162.,   1.],\n",
       "       [ 17., 316., 118.,   1.],\n",
       "       [ 18., 292., 112.,   0.]])"
      ]
     },
     "execution_count": 12,
     "metadata": {},
     "output_type": "execute_result"
    }
   ],
   "source": [
    "L = niners.iloc[:, 2].values\n",
    "M = niners.iloc[:, 7:10].values\n",
    "# concatenate 2 numpy arrays: column-wise\n",
    "O = np.column_stack((A,B))\n",
    "O"
   ]
  },
  {
   "cell_type": "code",
   "execution_count": 13,
   "metadata": {},
   "outputs": [
    {
     "data": {
      "text/plain": [
       "array([31., 41., 24., 31., 20.,  9., 51., 28., 24., 36., 37., 17., 48.,\n",
       "       22., 34., 26., 27., 37.])"
      ]
     },
     "execution_count": 13,
     "metadata": {},
     "output_type": "execute_result"
    }
   ],
   "source": [
    "p = niners.iloc[:, 5].values\n",
    "p"
   ]
  },
  {
   "cell_type": "code",
   "execution_count": 14,
   "metadata": {},
   "outputs": [],
   "source": [
    "from sklearn.model_selection import train_test_split\n",
    "from sklearn.preprocessing import StandardScaler\n",
    "from sklearn.ensemble import RandomForestRegressor\n",
    "from sklearn import metrics"
   ]
  },
  {
   "cell_type": "code",
   "execution_count": 15,
   "metadata": {},
   "outputs": [
    {
     "data": {
      "text/plain": [
       "array([[  2., 436.,  31.,   1.],\n",
       "       [  7., 191.,  80.,   0.]])"
      ]
     },
     "execution_count": 15,
     "metadata": {},
     "output_type": "execute_result"
    }
   ],
   "source": [
    "C_train, C_test, d_train, d_test = train_test_split(C, d, test_size=0.1, random_state=0)\n",
    "#C_train, \n",
    "C_test\n",
    "#d_train, d_test"
   ]
  },
  {
   "cell_type": "code",
   "execution_count": 16,
   "metadata": {},
   "outputs": [],
   "source": [
    "#Feature Scaling\n",
    "sc = StandardScaler()\n",
    "C_train = sc.fit_transform(C_train)\n",
    "C_test = sc.transform(C_test)"
   ]
  },
  {
   "cell_type": "code",
   "execution_count": 17,
   "metadata": {},
   "outputs": [
    {
     "name": "stdout",
     "output_type": "stream",
     "text": [
      "[38.89]\n"
     ]
    }
   ],
   "source": [
    "#Using the playoff games as an input FOR CHIEFS\n",
    "regressor = RandomForestRegressor(n_estimators=200, random_state=0)\n",
    "regressor.fit(C, d)\n",
    "#regressor.fit(C_train, d_train)\n",
    "y_pred = regressor.predict(chiefs_playoff_avgs)\n",
    "#y_pred = regressor.predict(chiefs_playoff_avgs)\n",
    "print(y_pred)"
   ]
  },
  {
   "cell_type": "code",
   "execution_count": null,
   "metadata": {},
   "outputs": [],
   "source": []
  },
  {
   "cell_type": "code",
   "execution_count": null,
   "metadata": {},
   "outputs": [],
   "source": []
  },
  {
   "cell_type": "code",
   "execution_count": null,
   "metadata": {},
   "outputs": [],
   "source": []
  },
  {
   "cell_type": "code",
   "execution_count": null,
   "metadata": {},
   "outputs": [],
   "source": []
  },
  {
   "cell_type": "code",
   "execution_count": null,
   "metadata": {},
   "outputs": [],
   "source": []
  },
  {
   "cell_type": "code",
   "execution_count": null,
   "metadata": {},
   "outputs": [],
   "source": []
  },
  {
   "cell_type": "code",
   "execution_count": null,
   "metadata": {},
   "outputs": [],
   "source": []
  },
  {
   "cell_type": "code",
   "execution_count": null,
   "metadata": {},
   "outputs": [],
   "source": [
    "print('Mean Absolute Error:', metrics.mean_absolute_error(y_test, y_pred))\n",
    "print('Mean Squared Error:', metrics.mean_squared_error(y_test, y_pred))\n",
    "print('Root Mean Squared Error:', np.sqrt(metrics.mean_squared_error(y_test, y_pred)))"
   ]
  },
  {
   "cell_type": "code",
   "execution_count": null,
   "metadata": {},
   "outputs": [],
   "source": [
    "O_train, O_test, p_train, p_test = train_test_split(O, p, test_size=0.1, random_state=0)\n",
    "p_test"
   ]
  },
  {
   "cell_type": "code",
   "execution_count": null,
   "metadata": {},
   "outputs": [],
   "source": [
    "sc = StandardScaler()\n",
    "O_train = sc.fit_transform(O_train)\n",
    "O_test = sc.transform(O_test)"
   ]
  },
  {
   "cell_type": "code",
   "execution_count": null,
   "metadata": {},
   "outputs": [],
   "source": [
    "#Using the playoff games as an input FOR 49ERS\n",
    "regressor = RandomForestRegressor(n_estimators=200, random_state=0)\n",
    "regressor.fit(O, p)\n",
    "y_pred = regressor.predict(niners_playoff_avgs)\n",
    "print(y_pred)"
   ]
  },
  {
   "cell_type": "code",
   "execution_count": null,
   "metadata": {},
   "outputs": [],
   "source": [
    "#Using regular season as input \n",
    "regressor = RandomForestRegressor(n_estimators=20, random_state=0)\n",
    "regressor.fit(C_train, d_train)\n",
    "y_pred = regressor.predict(d_test)\n",
    "print(y_pred)"
   ]
  },
  {
   "cell_type": "code",
   "execution_count": null,
   "metadata": {},
   "outputs": [],
   "source": [
    "#another article"
   ]
  },
  {
   "cell_type": "code",
   "execution_count": null,
   "metadata": {},
   "outputs": [],
   "source": [
    "model = RandomForestClassifier(n_estimators=10)"
   ]
  },
  {
   "cell_type": "code",
   "execution_count": null,
   "metadata": {},
   "outputs": [],
   "source": []
  }
 ],
 "metadata": {
  "kernelspec": {
   "display_name": "Python 3",
   "language": "python",
   "name": "python3"
  },
  "language_info": {
   "codemirror_mode": {
    "name": "ipython",
    "version": 3
   },
   "file_extension": ".py",
   "mimetype": "text/x-python",
   "name": "python",
   "nbconvert_exporter": "python",
   "pygments_lexer": "ipython3",
   "version": "3.7.3"
  }
 },
 "nbformat": 4,
 "nbformat_minor": 2
}
